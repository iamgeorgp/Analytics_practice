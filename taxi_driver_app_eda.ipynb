{
 "cells": [
  {
   "cell_type": "markdown",
   "id": "cbad3590",
   "metadata": {},
   "source": [
    "<div style=\"border-bottom: 15px linear-gradient(to right, red, blue); margin-top: 10px; width: 100%;\"></div>\n"
   ]
  },
  {
   "cell_type": "markdown",
   "id": "613ea95a",
   "metadata": {},
   "source": [
    "<div style=\"border-bottom: 15px solid lightblue; border-radius: 10px; width: 100%;\"></div>"
   ]
  },
  {
   "cell_type": "markdown",
   "id": "f4ab025c",
   "metadata": {},
   "source": [
    "# TAXI DRIVER APPLICATION STATISTICS AND ANALYTICS"
   ]
  },
  {
   "cell_type": "markdown",
   "id": "50319a06",
   "metadata": {},
   "source": [
    "<div style=\"border-bottom: 15px solid lightblue; border-radius: 10px; width: 100%;\"></div>"
   ]
  },
  {
   "cell_type": "markdown",
   "id": "e2b03207",
   "metadata": {},
   "source": [
    "## About\n",
    "Conduct data analysis to examine driver departures from the cab company to identify differences between drivers who have left and those who remain. Hypotheses should be formulated and tested, and key segments of drivers most at risk of leaving should be identified. Based on the findings, conclusions should be drawn as to which aspects of the service can be improved to make appropriate changes in the future."
   ]
  },
  {
   "cell_type": "markdown",
   "id": "1b40034b",
   "metadata": {},
   "source": [
    "<div style=\"border-bottom: 15px solid lightblue; border-radius: 10px; width: 100%;\"></div>"
   ]
  },
  {
   "cell_type": "markdown",
   "id": "6a23fdf2",
   "metadata": {},
   "source": [
    "## Importing Libraries"
   ]
  },
  {
   "cell_type": "code",
   "execution_count": 1,
   "id": "fd1c82d5",
   "metadata": {},
   "outputs": [],
   "source": [
    "import numpy as np\n",
    "import pandas as pd\n",
    "import scipy.stats as ss\n",
    "import scikit_posthocs as sp\n",
    "\n",
    "import seaborn as sns\n",
    "import plotly.express as px\n",
    "import matplotlib as mplt\n",
    "import matplotlib.pyplot as plt"
   ]
  },
  {
   "cell_type": "code",
   "execution_count": 2,
   "id": "1ca98556",
   "metadata": {},
   "outputs": [],
   "source": [
    "sns.set(style=\"whitegrid\")"
   ]
  },
  {
   "cell_type": "markdown",
   "id": "a496af86",
   "metadata": {},
   "source": [
    "<div style=\"border-bottom: 15px solid lightblue; border-radius: 10px; width: 100%;\"></div>"
   ]
  },
  {
   "cell_type": "markdown",
   "id": "71e309cf",
   "metadata": {},
   "source": [
    "## Defining Functions"
   ]
  },
  {
   "cell_type": "code",
   "execution_count": 3,
   "id": "00802dec",
   "metadata": {},
   "outputs": [],
   "source": [
    "# Info about DataFrame\n",
    "def overview(df):\n",
    "    print(\" DATA INFO \".center(50,'-'))\n",
    "    print(df.info())\n",
    "    \n",
    "    print(\" SHAPE OF DATASET \".center(50,'-'))\n",
    "    print('Rows:{}'.format(df.shape[0]))\n",
    "    print('Columns:{}'.format(df.shape[1]))\n",
    "    \n",
    "    print(\" DATA TYPES \".center(50,'-'))\n",
    "    print(df.dtypes)\n",
    "    \n",
    "    print(\" STATISTICS OF DATA \".center(50,'-'))\n",
    "    print(df.describe(include=\"all\", datetime_is_numeric=True))\n",
    "    \n",
    "    print(\" MISSING VALUES \".center(50,'-'))\n",
    "    print(df.isnull().sum()[df.isnull().sum()>0].sort_values(ascending = False))\n",
    "    \n",
    "    print(\" DUPLICATED VALUES \".center(50,'-'))\n",
    "    print(df.duplicated().sum())"
   ]
  },
  {
   "cell_type": "markdown",
   "id": "7bea6482",
   "metadata": {},
   "source": [
    "<div style=\"border-bottom: 15px solid lightblue; border-radius: 10px; width: 100%;\"></div>"
   ]
  },
  {
   "cell_type": "markdown",
   "id": "198565ef",
   "metadata": {},
   "source": [
    "## Uploading and Obtaining Information"
   ]
  },
  {
   "cell_type": "code",
   "execution_count": 4,
   "id": "d149e441",
   "metadata": {
    "scrolled": false
   },
   "outputs": [
    {
     "data": {
      "text/html": [
       "<div>\n",
       "<style scoped>\n",
       "    .dataframe tbody tr th:only-of-type {\n",
       "        vertical-align: middle;\n",
       "    }\n",
       "\n",
       "    .dataframe tbody tr th {\n",
       "        vertical-align: top;\n",
       "    }\n",
       "\n",
       "    .dataframe thead th {\n",
       "        text-align: right;\n",
       "    }\n",
       "</style>\n",
       "<table border=\"1\" class=\"dataframe\">\n",
       "  <thead>\n",
       "    <tr style=\"text-align: right;\">\n",
       "      <th></th>\n",
       "      <th>avg_dist</th>\n",
       "      <th>avg_rating_by_driver</th>\n",
       "      <th>avg_rating_of_driver</th>\n",
       "      <th>avg_surge</th>\n",
       "      <th>city</th>\n",
       "      <th>last_trip_date</th>\n",
       "      <th>phone</th>\n",
       "      <th>signup_date</th>\n",
       "      <th>surge_pct</th>\n",
       "      <th>trips_in_first_30_days</th>\n",
       "      <th>luxury_car_user</th>\n",
       "      <th>weekday_pct</th>\n",
       "    </tr>\n",
       "  </thead>\n",
       "  <tbody>\n",
       "    <tr>\n",
       "      <th>0</th>\n",
       "      <td>3.67</td>\n",
       "      <td>5.0</td>\n",
       "      <td>4.7</td>\n",
       "      <td>1.10</td>\n",
       "      <td>King's Landing</td>\n",
       "      <td>2014-06-17</td>\n",
       "      <td>iPhone</td>\n",
       "      <td>2014-01-25</td>\n",
       "      <td>15.4</td>\n",
       "      <td>4</td>\n",
       "      <td>True</td>\n",
       "      <td>46.2</td>\n",
       "    </tr>\n",
       "    <tr>\n",
       "      <th>1</th>\n",
       "      <td>8.26</td>\n",
       "      <td>5.0</td>\n",
       "      <td>5.0</td>\n",
       "      <td>1.00</td>\n",
       "      <td>Astapor</td>\n",
       "      <td>2014-05-05</td>\n",
       "      <td>Android</td>\n",
       "      <td>2014-01-29</td>\n",
       "      <td>0.0</td>\n",
       "      <td>0</td>\n",
       "      <td>False</td>\n",
       "      <td>50.0</td>\n",
       "    </tr>\n",
       "    <tr>\n",
       "      <th>2</th>\n",
       "      <td>0.77</td>\n",
       "      <td>5.0</td>\n",
       "      <td>4.3</td>\n",
       "      <td>1.00</td>\n",
       "      <td>Astapor</td>\n",
       "      <td>2014-01-07</td>\n",
       "      <td>iPhone</td>\n",
       "      <td>2014-01-06</td>\n",
       "      <td>0.0</td>\n",
       "      <td>3</td>\n",
       "      <td>False</td>\n",
       "      <td>100.0</td>\n",
       "    </tr>\n",
       "    <tr>\n",
       "      <th>3</th>\n",
       "      <td>2.36</td>\n",
       "      <td>4.9</td>\n",
       "      <td>4.6</td>\n",
       "      <td>1.14</td>\n",
       "      <td>King's Landing</td>\n",
       "      <td>2014-06-29</td>\n",
       "      <td>iPhone</td>\n",
       "      <td>2014-01-10</td>\n",
       "      <td>20.0</td>\n",
       "      <td>9</td>\n",
       "      <td>True</td>\n",
       "      <td>80.0</td>\n",
       "    </tr>\n",
       "    <tr>\n",
       "      <th>4</th>\n",
       "      <td>3.13</td>\n",
       "      <td>4.9</td>\n",
       "      <td>4.4</td>\n",
       "      <td>1.19</td>\n",
       "      <td>Winterfell</td>\n",
       "      <td>2014-03-15</td>\n",
       "      <td>Android</td>\n",
       "      <td>2014-01-27</td>\n",
       "      <td>11.8</td>\n",
       "      <td>14</td>\n",
       "      <td>False</td>\n",
       "      <td>82.4</td>\n",
       "    </tr>\n",
       "  </tbody>\n",
       "</table>\n",
       "</div>"
      ],
      "text/plain": [
       "   avg_dist  avg_rating_by_driver  avg_rating_of_driver  avg_surge  \\\n",
       "0      3.67                   5.0                   4.7       1.10   \n",
       "1      8.26                   5.0                   5.0       1.00   \n",
       "2      0.77                   5.0                   4.3       1.00   \n",
       "3      2.36                   4.9                   4.6       1.14   \n",
       "4      3.13                   4.9                   4.4       1.19   \n",
       "\n",
       "             city last_trip_date    phone signup_date  surge_pct  \\\n",
       "0  King's Landing     2014-06-17   iPhone  2014-01-25       15.4   \n",
       "1         Astapor     2014-05-05  Android  2014-01-29        0.0   \n",
       "2         Astapor     2014-01-07   iPhone  2014-01-06        0.0   \n",
       "3  King's Landing     2014-06-29   iPhone  2014-01-10       20.0   \n",
       "4      Winterfell     2014-03-15  Android  2014-01-27       11.8   \n",
       "\n",
       "   trips_in_first_30_days  luxury_car_user  weekday_pct  \n",
       "0                       4             True         46.2  \n",
       "1                       0            False         50.0  \n",
       "2                       3            False        100.0  \n",
       "3                       9             True         80.0  \n",
       "4                      14            False         82.4  "
      ]
     },
     "execution_count": 4,
     "metadata": {},
     "output_type": "execute_result"
    }
   ],
   "source": [
    "df_taxi = pd.read_csv('data\\churn.csv')\n",
    "df_taxi.head()"
   ]
  },
  {
   "cell_type": "markdown",
   "id": "4338a73f",
   "metadata": {},
   "source": [
    "### Data description\n",
    "\n",
    "- `city` - city\n",
    "- `phone` - the main device used by the driver \n",
    "- `signup_date` - date of account registration (`YYYYYYYMMDD`)\n",
    "- `last_trip_date` - date of the last trip (`YYYYYYMMDD`)\n",
    "- `avg_dist` - average distance (in miles) per trip in the first 30 days after registration\n",
    "- `avg_rating_by_driver` - average rating of trips by driver \n",
    "- `avg_rating_of_driver` - average rating of driver trips\n",
    "- `surge_pct` - percentage of trips made with a multiplier > 1 (seems to be when there is heavy traffic, etc.)\n",
    "- `avg_surge` - average surge multiplier for all trips for this driver\n",
    "- `trips_in_first_30_days` - number of trips taken by the driver in the first 30 days after registration\n",
    "- `luxury_car_user` - TRUE if the user used a premium car in the first 30 days\n",
    "- `weekday_pct` - percentage of user's trips made on weekdays"
   ]
  },
  {
   "cell_type": "code",
   "execution_count": 5,
   "id": "a859143b",
   "metadata": {},
   "outputs": [
    {
     "data": {
      "text/plain": [
       "avg_dist                  float64\n",
       "avg_rating_by_driver      float64\n",
       "avg_rating_of_driver      float64\n",
       "avg_surge                 float64\n",
       "city                       object\n",
       "last_trip_date             object\n",
       "phone                      object\n",
       "signup_date                object\n",
       "surge_pct                 float64\n",
       "trips_in_first_30_days      int64\n",
       "luxury_car_user              bool\n",
       "weekday_pct               float64\n",
       "dtype: object"
      ]
     },
     "execution_count": 5,
     "metadata": {},
     "output_type": "execute_result"
    }
   ],
   "source": [
    "df_taxi.dtypes"
   ]
  },
  {
   "cell_type": "code",
   "execution_count": 6,
   "id": "80957a0f",
   "metadata": {},
   "outputs": [],
   "source": [
    "# Change to date type after checking\n",
    "df_taxi.last_trip_date = pd.to_datetime(df_taxi.last_trip_date)\n",
    "df_taxi.signup_date = pd.to_datetime(df_taxi.signup_date)"
   ]
  },
  {
   "cell_type": "code",
   "execution_count": 7,
   "id": "b2dd7927",
   "metadata": {
    "scrolled": false
   },
   "outputs": [
    {
     "name": "stdout",
     "output_type": "stream",
     "text": [
      "------------------- DATA INFO --------------------\n",
      "<class 'pandas.core.frame.DataFrame'>\n",
      "RangeIndex: 50000 entries, 0 to 49999\n",
      "Data columns (total 12 columns):\n",
      " #   Column                  Non-Null Count  Dtype         \n",
      "---  ------                  --------------  -----         \n",
      " 0   avg_dist                50000 non-null  float64       \n",
      " 1   avg_rating_by_driver    49799 non-null  float64       \n",
      " 2   avg_rating_of_driver    41878 non-null  float64       \n",
      " 3   avg_surge               50000 non-null  float64       \n",
      " 4   city                    50000 non-null  object        \n",
      " 5   last_trip_date          50000 non-null  datetime64[ns]\n",
      " 6   phone                   49604 non-null  object        \n",
      " 7   signup_date             50000 non-null  datetime64[ns]\n",
      " 8   surge_pct               50000 non-null  float64       \n",
      " 9   trips_in_first_30_days  50000 non-null  int64         \n",
      " 10  luxury_car_user         50000 non-null  bool          \n",
      " 11  weekday_pct             50000 non-null  float64       \n",
      "dtypes: bool(1), datetime64[ns](2), float64(6), int64(1), object(2)\n",
      "memory usage: 4.2+ MB\n",
      "None\n",
      "---------------- SHAPE OF DATASET ----------------\n",
      "Rows:50000\n",
      "Columns:12\n",
      "------------------- DATA TYPES -------------------\n",
      "avg_dist                         float64\n",
      "avg_rating_by_driver             float64\n",
      "avg_rating_of_driver             float64\n",
      "avg_surge                        float64\n",
      "city                              object\n",
      "last_trip_date            datetime64[ns]\n",
      "phone                             object\n",
      "signup_date               datetime64[ns]\n",
      "surge_pct                        float64\n",
      "trips_in_first_30_days             int64\n",
      "luxury_car_user                     bool\n",
      "weekday_pct                      float64\n",
      "dtype: object\n",
      "--------------- STATISTICS OF DATA ---------------\n",
      "            avg_dist  avg_rating_by_driver  avg_rating_of_driver  \\\n",
      "count   50000.000000          49799.000000          41878.000000   \n",
      "unique           NaN                   NaN                   NaN   \n",
      "top              NaN                   NaN                   NaN   \n",
      "freq             NaN                   NaN                   NaN   \n",
      "mean        5.796827              4.778158              4.601559   \n",
      "min         0.000000              1.000000              1.000000   \n",
      "25%         2.420000              4.700000              4.300000   \n",
      "50%         3.880000              5.000000              4.900000   \n",
      "75%         6.940000              5.000000              5.000000   \n",
      "max       160.960000              5.000000              5.000000   \n",
      "std         5.707357              0.446652              0.617338   \n",
      "\n",
      "           avg_surge        city                 last_trip_date   phone  \\\n",
      "count   50000.000000       50000                          50000   49604   \n",
      "unique           NaN           3                            NaN       2   \n",
      "top              NaN  Winterfell                            NaN  iPhone   \n",
      "freq             NaN       23336                            NaN   34582   \n",
      "mean        1.074764         NaN  2014-04-19 08:02:04.992000256     NaN   \n",
      "min         1.000000         NaN            2014-01-01 00:00:00     NaN   \n",
      "25%         1.000000         NaN            2014-02-14 00:00:00     NaN   \n",
      "50%         1.000000         NaN            2014-05-08 00:00:00     NaN   \n",
      "75%         1.050000         NaN            2014-06-18 00:00:00     NaN   \n",
      "max         8.000000         NaN            2014-07-01 00:00:00     NaN   \n",
      "std         0.222336         NaN                            NaN     NaN   \n",
      "\n",
      "                       signup_date     surge_pct  trips_in_first_30_days  \\\n",
      "count                        50000  50000.000000            50000.000000   \n",
      "unique                         NaN           NaN                     NaN   \n",
      "top                            NaN           NaN                     NaN   \n",
      "freq                           NaN           NaN                     NaN   \n",
      "mean    2014-01-16 13:04:20.352000      8.849536                2.278200   \n",
      "min            2014-01-01 00:00:00      0.000000                0.000000   \n",
      "25%            2014-01-09 00:00:00      0.000000                0.000000   \n",
      "50%            2014-01-17 00:00:00      0.000000                1.000000   \n",
      "75%            2014-01-24 00:00:00      8.600000                3.000000   \n",
      "max            2014-01-31 00:00:00    100.000000              125.000000   \n",
      "std                            NaN     19.958811                3.792684   \n",
      "\n",
      "       luxury_car_user   weekday_pct  \n",
      "count            50000  50000.000000  \n",
      "unique               2           NaN  \n",
      "top              False           NaN  \n",
      "freq             31146           NaN  \n",
      "mean               NaN     60.926084  \n",
      "min                NaN      0.000000  \n",
      "25%                NaN     33.300000  \n",
      "50%                NaN     66.700000  \n",
      "75%                NaN    100.000000  \n",
      "max                NaN    100.000000  \n",
      "std                NaN     37.081503  \n",
      "----------------- MISSING VALUES -----------------\n",
      "avg_rating_of_driver    8122\n",
      "phone                    396\n",
      "avg_rating_by_driver     201\n",
      "dtype: int64\n",
      "--------------- DUPLICATED VALUES ----------------\n",
      "8\n"
     ]
    }
   ],
   "source": [
    "overview(df=df_taxi)"
   ]
  },
  {
   "cell_type": "markdown",
   "id": "af39c3b2",
   "metadata": {},
   "source": [
    "### Note \n",
    "Many rating values are empty since it appears after a critical mass of ratings has been accumulated"
   ]
  },
  {
   "cell_type": "markdown",
   "id": "f7ffe0dc",
   "metadata": {},
   "source": [
    "<div style=\"border-bottom: 15px solid lightblue; border-radius: 10px; width: 100%;\"></div>"
   ]
  },
  {
   "cell_type": "markdown",
   "id": "daca5606",
   "metadata": {},
   "source": [
    "## Hypothesis Testing and Visualization"
   ]
  },
  {
   "cell_type": "markdown",
   "id": "7d809351",
   "metadata": {},
   "source": [
    "User has left if inactive for 30 days\n",
    "\n",
    "-  `days_since_last_trip` - Number of days elapsed since the last trip"
   ]
  },
  {
   "cell_type": "code",
   "execution_count": 8,
   "id": "6f449891",
   "metadata": {},
   "outputs": [],
   "source": [
    "# df_taxi['days_since_last_trip'] = (df_taxi.last_trip_date.max() - df_taxi.last_trip_date).dt.days\n",
    "# df_taxi.days_since_last_trip"
   ]
  },
  {
   "cell_type": "markdown",
   "id": "61dcd036",
   "metadata": {},
   "source": [
    "-  `churn` - drivers' churn rate"
   ]
  },
  {
   "cell_type": "code",
   "execution_count": 9,
   "id": "15359eb9",
   "metadata": {},
   "outputs": [],
   "source": [
    "df_taxi['churn'] = (df_taxi.last_trip_date.max() - df_taxi.last_trip_date) \\\n",
    "                            .dt.days \\\n",
    "                            .apply(lambda x: 'churn' if x > 30 else 'not_churn')"
   ]
  },
  {
   "cell_type": "code",
   "execution_count": 10,
   "id": "df06ad30",
   "metadata": {},
   "outputs": [
    {
     "data": {
      "text/html": [
       "<div>\n",
       "<style scoped>\n",
       "    .dataframe tbody tr th:only-of-type {\n",
       "        vertical-align: middle;\n",
       "    }\n",
       "\n",
       "    .dataframe tbody tr th {\n",
       "        vertical-align: top;\n",
       "    }\n",
       "\n",
       "    .dataframe thead th {\n",
       "        text-align: right;\n",
       "    }\n",
       "</style>\n",
       "<table border=\"1\" class=\"dataframe\">\n",
       "  <thead>\n",
       "    <tr style=\"text-align: right;\">\n",
       "      <th></th>\n",
       "      <th>avg_dist</th>\n",
       "      <th>avg_rating_by_driver</th>\n",
       "      <th>avg_rating_of_driver</th>\n",
       "      <th>avg_surge</th>\n",
       "      <th>city</th>\n",
       "      <th>last_trip_date</th>\n",
       "      <th>phone</th>\n",
       "      <th>signup_date</th>\n",
       "      <th>surge_pct</th>\n",
       "      <th>trips_in_first_30_days</th>\n",
       "      <th>luxury_car_user</th>\n",
       "      <th>weekday_pct</th>\n",
       "      <th>churn</th>\n",
       "    </tr>\n",
       "  </thead>\n",
       "  <tbody>\n",
       "    <tr>\n",
       "      <th>0</th>\n",
       "      <td>3.67</td>\n",
       "      <td>5.0</td>\n",
       "      <td>4.7</td>\n",
       "      <td>1.10</td>\n",
       "      <td>King's Landing</td>\n",
       "      <td>2014-06-17</td>\n",
       "      <td>iPhone</td>\n",
       "      <td>2014-01-25</td>\n",
       "      <td>15.4</td>\n",
       "      <td>4</td>\n",
       "      <td>True</td>\n",
       "      <td>46.2</td>\n",
       "      <td>not_churn</td>\n",
       "    </tr>\n",
       "    <tr>\n",
       "      <th>1</th>\n",
       "      <td>8.26</td>\n",
       "      <td>5.0</td>\n",
       "      <td>5.0</td>\n",
       "      <td>1.00</td>\n",
       "      <td>Astapor</td>\n",
       "      <td>2014-05-05</td>\n",
       "      <td>Android</td>\n",
       "      <td>2014-01-29</td>\n",
       "      <td>0.0</td>\n",
       "      <td>0</td>\n",
       "      <td>False</td>\n",
       "      <td>50.0</td>\n",
       "      <td>churn</td>\n",
       "    </tr>\n",
       "    <tr>\n",
       "      <th>2</th>\n",
       "      <td>0.77</td>\n",
       "      <td>5.0</td>\n",
       "      <td>4.3</td>\n",
       "      <td>1.00</td>\n",
       "      <td>Astapor</td>\n",
       "      <td>2014-01-07</td>\n",
       "      <td>iPhone</td>\n",
       "      <td>2014-01-06</td>\n",
       "      <td>0.0</td>\n",
       "      <td>3</td>\n",
       "      <td>False</td>\n",
       "      <td>100.0</td>\n",
       "      <td>churn</td>\n",
       "    </tr>\n",
       "    <tr>\n",
       "      <th>3</th>\n",
       "      <td>2.36</td>\n",
       "      <td>4.9</td>\n",
       "      <td>4.6</td>\n",
       "      <td>1.14</td>\n",
       "      <td>King's Landing</td>\n",
       "      <td>2014-06-29</td>\n",
       "      <td>iPhone</td>\n",
       "      <td>2014-01-10</td>\n",
       "      <td>20.0</td>\n",
       "      <td>9</td>\n",
       "      <td>True</td>\n",
       "      <td>80.0</td>\n",
       "      <td>not_churn</td>\n",
       "    </tr>\n",
       "    <tr>\n",
       "      <th>4</th>\n",
       "      <td>3.13</td>\n",
       "      <td>4.9</td>\n",
       "      <td>4.4</td>\n",
       "      <td>1.19</td>\n",
       "      <td>Winterfell</td>\n",
       "      <td>2014-03-15</td>\n",
       "      <td>Android</td>\n",
       "      <td>2014-01-27</td>\n",
       "      <td>11.8</td>\n",
       "      <td>14</td>\n",
       "      <td>False</td>\n",
       "      <td>82.4</td>\n",
       "      <td>churn</td>\n",
       "    </tr>\n",
       "  </tbody>\n",
       "</table>\n",
       "</div>"
      ],
      "text/plain": [
       "   avg_dist  avg_rating_by_driver  avg_rating_of_driver  avg_surge  \\\n",
       "0      3.67                   5.0                   4.7       1.10   \n",
       "1      8.26                   5.0                   5.0       1.00   \n",
       "2      0.77                   5.0                   4.3       1.00   \n",
       "3      2.36                   4.9                   4.6       1.14   \n",
       "4      3.13                   4.9                   4.4       1.19   \n",
       "\n",
       "             city last_trip_date    phone signup_date  surge_pct  \\\n",
       "0  King's Landing     2014-06-17   iPhone  2014-01-25       15.4   \n",
       "1         Astapor     2014-05-05  Android  2014-01-29        0.0   \n",
       "2         Astapor     2014-01-07   iPhone  2014-01-06        0.0   \n",
       "3  King's Landing     2014-06-29   iPhone  2014-01-10       20.0   \n",
       "4      Winterfell     2014-03-15  Android  2014-01-27       11.8   \n",
       "\n",
       "   trips_in_first_30_days  luxury_car_user  weekday_pct      churn  \n",
       "0                       4             True         46.2  not_churn  \n",
       "1                       0            False         50.0      churn  \n",
       "2                       3            False        100.0      churn  \n",
       "3                       9             True         80.0  not_churn  \n",
       "4                      14            False         82.4      churn  "
      ]
     },
     "execution_count": 10,
     "metadata": {},
     "output_type": "execute_result"
    }
   ],
   "source": [
    "df_taxi.head()"
   ]
  },
  {
   "cell_type": "code",
   "execution_count": 11,
   "id": "1a96cb77",
   "metadata": {
    "scrolled": false
   },
   "outputs": [
    {
     "name": "stdout",
     "output_type": "stream",
     "text": [
      "Number of people who left: 31196\n",
      "Number of all people:      50000\n"
     ]
    }
   ],
   "source": [
    "print('Number of people who left: {}'.format(df_taxi\n",
    "                                                 .query('churn == \"churn\"')\n",
    "                                                 .shape[0]))\n",
    "print('Number of all people:      {}'.format(df_taxi\n",
    "                                                 .shape[0]))"
   ]
  },
  {
   "cell_type": "markdown",
   "id": "426069f8",
   "metadata": {},
   "source": [
    "### Note\n",
    "Notice that a significant number of users have had no activity on the platform over the last month. Consequently, an analysis is required to identify the factors influencing driver disengagement."
   ]
  },
  {
   "cell_type": "code",
   "execution_count": 12,
   "id": "ed584ed5",
   "metadata": {},
   "outputs": [
    {
     "data": {
      "text/plain": [
       "churn        62.392\n",
       "not_churn    37.608\n",
       "Name: churn, dtype: float64"
      ]
     },
     "execution_count": 12,
     "metadata": {},
     "output_type": "execute_result"
    }
   ],
   "source": [
    "# Count parts precents of churn rate\n",
    "df_taxi.churn.value_counts(normalize=True).mul(100)"
   ]
  },
  {
   "cell_type": "code",
   "execution_count": 13,
   "id": "4540b979",
   "metadata": {},
   "outputs": [
    {
     "data": {
      "image/png": "[encoded data removed]",
      "text/plain": [
       "<Figure size 1000x500 with 2 Axes>"
      ]
     },
     "metadata": {},
     "output_type": "display_data"
    }
   ],
   "source": [
    "# Visualization of churn rate - Histogram\n",
    "fig, (ax1, ax2) = plt.subplots(1, 2, figsize=(10, 5))\n",
    "\n",
    "sns.histplot(data=df_taxi, \n",
    "             x='churn', \n",
    "             stat='count', \n",
    "             color='lightblue', \n",
    "             edgecolor='white', \n",
    "             shrink=0.8, \n",
    "             binwidth=1,\n",
    "             ax=ax1)\n",
    "\n",
    "ax1.set_title(\"Histogram Churn\", fontsize=16)\n",
    "ax1.set_xlabel(\"Churn Status\", fontsize=14)\n",
    "ax1.set_ylabel(\"Drivers\", fontsize=14)\n",
    "ax1.set_xticks([0, 1])\n",
    "ax1.set_xticklabels(['Churn', 'Not Churn'], fontsize=12)\n",
    "ax1.tick_params(axis='y', labelsize=12)\n",
    "\n",
    "for p in ax1.patches:\n",
    "    height = p.get_height()\n",
    "    ax1.text(p.get_x() + p.get_width() / 2., height + 5, f\"{int(height)}\", ha=\"center\", fontsize=12)\n",
    "\n",
    "# Visualization of churn rate - Pie Chart\n",
    "ax2.pie(df_taxi['churn'].value_counts(), labels=['Churn', 'Not Churn'], colors=['#3498db', '#85c1e9'], autopct='%1.1f%%', startangle=140, textprops={'fontsize': 12})\n",
    "ax2.set_title(\"Churn Rate Distribution\", fontsize=16)\n",
    "\n",
    "plt.tight_layout()\n",
    "sns.despine(ax=ax1)\n",
    "plt.show()"
   ]
  },
  {
   "cell_type": "markdown",
   "id": "2df82cf0",
   "metadata": {},
   "source": [
    "<div style=\"border-bottom: 15px solid lightblue; border-radius: 10px; width: 100%;\"></div>"
   ]
  },
  {
   "cell_type": "markdown",
   "id": "9b8b3371",
   "metadata": {},
   "source": [
    " ## Churn on Mobile Platforms"
   ]
  },
  {
   "cell_type": "code",
   "execution_count": 14,
   "id": "b55f67ac",
   "metadata": {},
   "outputs": [
    {
     "data": {
      "text/html": [
       "<div>\n",
       "<style scoped>\n",
       "    .dataframe tbody tr th:only-of-type {\n",
       "        vertical-align: middle;\n",
       "    }\n",
       "\n",
       "    .dataframe tbody tr th {\n",
       "        vertical-align: top;\n",
       "    }\n",
       "\n",
       "    .dataframe thead th {\n",
       "        text-align: right;\n",
       "    }\n",
       "</style>\n",
       "<table border=\"1\" class=\"dataframe\">\n",
       "  <thead>\n",
       "    <tr style=\"text-align: right;\">\n",
       "      <th>phone</th>\n",
       "      <th>Android</th>\n",
       "      <th>iPhone</th>\n",
       "    </tr>\n",
       "    <tr>\n",
       "      <th>churn</th>\n",
       "      <th></th>\n",
       "      <th></th>\n",
       "    </tr>\n",
       "  </thead>\n",
       "  <tbody>\n",
       "    <tr>\n",
       "      <th>churn</th>\n",
       "      <td>11876</td>\n",
       "      <td>19057</td>\n",
       "    </tr>\n",
       "    <tr>\n",
       "      <th>not_churn</th>\n",
       "      <td>3146</td>\n",
       "      <td>15525</td>\n",
       "    </tr>\n",
       "  </tbody>\n",
       "</table>\n",
       "</div>"
      ],
      "text/plain": [
       "phone      Android  iPhone\n",
       "churn                     \n",
       "churn        11876   19057\n",
       "not_churn     3146   15525"
      ]
     },
     "execution_count": 14,
     "metadata": {},
     "output_type": "execute_result"
    }
   ],
   "source": [
    "pd.crosstab(df_taxi.churn, df_taxi.phone)"
   ]
  },
  {
   "cell_type": "code",
   "execution_count": 15,
   "id": "297d6bd2",
   "metadata": {
    "scrolled": false
   },
   "outputs": [
    {
     "data": {
      "image/png": "[encoded data removed]",
      "text/plain": [
       "<Figure size 800x500 with 1 Axes>"
      ]
     },
     "metadata": {},
     "output_type": "display_data"
    }
   ],
   "source": [
    "# Vizualization of churn rate\n",
    "plt.figure(figsize=(8, 5))\n",
    "fig = sns.histplot(data=df_taxi[['churn', 'phone']], \n",
    "                   x='churn', \n",
    "                   stat='count', \n",
    "                   hue=df_taxi.phone,\n",
    "                   edgecolor='white', \n",
    "                   palette={'iPhone': '#3498db', 'Android': '#85c1e9'},\n",
    "                   multiple='stack',\n",
    "                   shrink=0.8, \n",
    "                   binwidth=1,\n",
    "                   fill=True\n",
    "                  )\n",
    "\n",
    "plt.title(\"Histogram Churn on Mobile Platforms\", fontsize=16)\n",
    "plt.xlabel(\"Churn Status\", fontsize=14)\n",
    "plt.ylabel(\"Drivers\", fontsize=14)\n",
    "\n",
    "plt.xticks([0, 1], ['Churn', 'Not Churn'], fontsize=12)\n",
    "plt.yticks(fontsize=12)\n",
    "\n",
    "for p in fig.patches:\n",
    "    height = p.get_height()\n",
    "    plt.text(p.get_x() + p.get_width() / 2., p.get_y()+height+100, f\"{int(height)}\", ha=\"center\", fontsize=12)\n",
    "\n",
    "plt.tight_layout()\n",
    "plt.show()"
   ]
  },
  {
   "cell_type": "markdown",
   "id": "3b23ec5c",
   "metadata": {},
   "source": [
    "<div style=\"border-bottom: 15px solid lightblue; border-radius: 10px; width: 100%;\"></div>"
   ]
  },
  {
   "cell_type": "markdown",
   "id": "f2660ea0",
   "metadata": {},
   "source": [
    "## Churn by City"
   ]
  },
  {
   "cell_type": "markdown",
   "id": "994d4a07",
   "metadata": {},
   "source": [
    "`churn` and `city` are categorical variables, therefore, a chi-square test (*χ2*-test) is used to determine the relationship between two categorical variables"
   ]
  },
  {
   "cell_type": "code",
   "execution_count": 16,
   "id": "4c6069d5",
   "metadata": {},
   "outputs": [
    {
     "data": {
      "text/html": [
       "<div>\n",
       "<style scoped>\n",
       "    .dataframe tbody tr th:only-of-type {\n",
       "        vertical-align: middle;\n",
       "    }\n",
       "\n",
       "    .dataframe tbody tr th {\n",
       "        vertical-align: top;\n",
       "    }\n",
       "\n",
       "    .dataframe thead th {\n",
       "        text-align: right;\n",
       "    }\n",
       "</style>\n",
       "<table border=\"1\" class=\"dataframe\">\n",
       "  <thead>\n",
       "    <tr style=\"text-align: right;\">\n",
       "      <th>city</th>\n",
       "      <th>Astapor</th>\n",
       "      <th>King's Landing</th>\n",
       "      <th>Winterfell</th>\n",
       "    </tr>\n",
       "    <tr>\n",
       "      <th>churn</th>\n",
       "      <th></th>\n",
       "      <th></th>\n",
       "      <th></th>\n",
       "    </tr>\n",
       "  </thead>\n",
       "  <tbody>\n",
       "    <tr>\n",
       "      <th>churn</th>\n",
       "      <td>12306</td>\n",
       "      <td>3767</td>\n",
       "      <td>15123</td>\n",
       "    </tr>\n",
       "    <tr>\n",
       "      <th>not_churn</th>\n",
       "      <td>4228</td>\n",
       "      <td>6363</td>\n",
       "      <td>8213</td>\n",
       "    </tr>\n",
       "  </tbody>\n",
       "</table>\n",
       "</div>"
      ],
      "text/plain": [
       "city       Astapor  King's Landing  Winterfell\n",
       "churn                                         \n",
       "churn        12306            3767       15123\n",
       "not_churn     4228            6363        8213"
      ]
     },
     "execution_count": 16,
     "metadata": {},
     "output_type": "execute_result"
    }
   ],
   "source": [
    "tab = pd.crosstab(df_taxi.churn, df_taxi.city)\n",
    "tab"
   ]
  },
  {
   "cell_type": "code",
   "execution_count": 17,
   "id": "e0f45373",
   "metadata": {},
   "outputs": [
    {
     "name": "stdout",
     "output_type": "stream",
     "text": [
      "3821.5510225559633\n",
      "0.0\n",
      "2\n",
      "[[10315.89328  6320.3096  14559.79712]\n",
      " [ 6218.10672  3809.6904   8776.20288]]\n"
     ]
    }
   ],
   "source": [
    "stat, p, dof, expected =ss.chi2_contingency(tab)\n",
    "print(stat, p, dof, expected, sep='\\n')"
   ]
  },
  {
   "cell_type": "markdown",
   "id": "b763bfbe",
   "metadata": {},
   "source": [
    "### Note \n",
    "The results suggest that there is a statistically significant relationship between the variables in the contingent tab table because the p-value is very close to zero. This means that the null hypothesis of independence of the variables is rejected in favor of the alternative hypothesis that there is a relationship between the variables."
   ]
  },
  {
   "cell_type": "markdown",
   "id": "6b70e0e0",
   "metadata": {},
   "source": [
    "<div style=\"border-bottom: 15px solid lightblue; border-radius: 10px; width: 100%;\"></div>"
   ]
  },
  {
   "cell_type": "markdown",
   "id": "815e72fd",
   "metadata": {},
   "source": [
    "## Difference in Activity in the First 30 Days of Drivers by City"
   ]
  },
  {
   "cell_type": "code",
   "execution_count": 18,
   "id": "09def230",
   "metadata": {
    "scrolled": false
   },
   "outputs": [
    {
     "data": {
      "image/png": "[encoded data removed]",
      "text/plain": [
       "<Figure size 500x500 with 1 Axes>"
      ]
     },
     "metadata": {},
     "output_type": "display_data"
    }
   ],
   "source": [
    "sns.displot(df_taxi.trips_in_first_30_days, \n",
    "            kde=True, \n",
    "           )\n",
    "plt.show()"
   ]
  },
  {
   "cell_type": "code",
   "execution_count": 19,
   "id": "518caec6",
   "metadata": {},
   "outputs": [
    {
     "name": "stdout",
     "output_type": "stream",
     "text": [
      "ShapiroResult(statistic=0.5414707660675049, pvalue=4.203895392974451e-45)\n",
      "ShapiroResult(statistic=0.6132168769836426, pvalue=1.6829594556541053e-42)\n",
      "ShapiroResult(statistic=0.545579195022583, pvalue=7.006492321624085e-45)\n"
     ]
    }
   ],
   "source": [
    "Astapor = df_taxi[df_taxi.city == 'Astapor'].trips_in_first_30_days\n",
    "Kings = df_taxi[df_taxi.city == \"King's Landing\"].trips_in_first_30_days\n",
    "Winterfell = df_taxi[df_taxi.city == 'Winterfell'].trips_in_first_30_days\n",
    "\n",
    "print(ss.shapiro(Astapor.sample(1000, random_state=17)))\n",
    "print(ss.shapiro(Kings.sample(1000, random_state=17)))\n",
    "print(ss.shapiro(Winterfell.sample(1000, random_state=17)))"
   ]
  },
  {
   "cell_type": "markdown",
   "id": "02745975",
   "metadata": {},
   "source": [
    "### Note\n",
    "In this case, all three p-values are very close to zero, which means that the null hypothesis of normality of the data is rejected. Thus, we can conclude that the data on the number of trips in the first 30 days do not follow a normal distribution.\n",
    "\n",
    "Accordingly, the Kraskell-Wallis test may be a more appropriate choice than the Shapiro-Wilk test for each group separately."
   ]
  },
  {
   "cell_type": "code",
   "execution_count": 20,
   "id": "70ce8e73",
   "metadata": {},
   "outputs": [
    {
     "data": {
      "text/plain": [
       "KruskalResult(statistic=221.32105325317454, pvalue=8.724567791938856e-49)"
      ]
     },
     "execution_count": 20,
     "metadata": {},
     "output_type": "execute_result"
    }
   ],
   "source": [
    "kruskal_results = ss.kruskal(Astapor, Kings, Winterfell)\n",
    "kruskal_results"
   ]
  },
  {
   "cell_type": "markdown",
   "id": "ecf5e1fc",
   "metadata": {},
   "source": [
    "### Note\n",
    "We can conclude that there are statistically significant differences in the number of trips in the first 30 days between the cities of Astapor, Kings, and Winterfell. The P-value is very small, indicating that the differences between the groups cannot be explained by chance and you can consider the results statistically significant.\n",
    "\n",
    "---\n",
    "A post-hoc Dunn's test adjusted for Hill's method to compare groups of data (Astapor, King's Landing, and Winterfell) on the number of trips in the first 30 days and determine between which pairs of groups there are statistically significant differences"
   ]
  },
  {
   "cell_type": "code",
   "execution_count": 21,
   "id": "00e028a3",
   "metadata": {
    "scrolled": true
   },
   "outputs": [
    {
     "data": {
      "text/html": [
       "<div>\n",
       "<style scoped>\n",
       "    .dataframe tbody tr th:only-of-type {\n",
       "        vertical-align: middle;\n",
       "    }\n",
       "\n",
       "    .dataframe tbody tr th {\n",
       "        vertical-align: top;\n",
       "    }\n",
       "\n",
       "    .dataframe thead th {\n",
       "        text-align: right;\n",
       "    }\n",
       "</style>\n",
       "<table border=\"1\" class=\"dataframe\">\n",
       "  <thead>\n",
       "    <tr style=\"text-align: right;\">\n",
       "      <th></th>\n",
       "      <th>Astapor</th>\n",
       "      <th>King's Landing</th>\n",
       "      <th>Winterfell</th>\n",
       "    </tr>\n",
       "  </thead>\n",
       "  <tbody>\n",
       "    <tr>\n",
       "      <th>Astapor</th>\n",
       "      <td>1.000000e+00</td>\n",
       "      <td>1.313616e-09</td>\n",
       "      <td>2.448501e-49</td>\n",
       "    </tr>\n",
       "    <tr>\n",
       "      <th>King's Landing</th>\n",
       "      <td>1.313616e-09</td>\n",
       "      <td>1.000000e+00</td>\n",
       "      <td>8.440212e-10</td>\n",
       "    </tr>\n",
       "    <tr>\n",
       "      <th>Winterfell</th>\n",
       "      <td>2.448501e-49</td>\n",
       "      <td>8.440212e-10</td>\n",
       "      <td>1.000000e+00</td>\n",
       "    </tr>\n",
       "  </tbody>\n",
       "</table>\n",
       "</div>"
      ],
      "text/plain": [
       "                     Astapor  King's Landing    Winterfell\n",
       "Astapor         1.000000e+00    1.313616e-09  2.448501e-49\n",
       "King's Landing  1.313616e-09    1.000000e+00  8.440212e-10\n",
       "Winterfell      2.448501e-49    8.440212e-10  1.000000e+00"
      ]
     },
     "execution_count": 21,
     "metadata": {},
     "output_type": "execute_result"
    }
   ],
   "source": [
    "sp.posthoc_dunn(df_taxi[['city', 'trips_in_first_30_days']],\n",
    "                val_col='trips_in_first_30_days', \n",
    "                group_col='city', \n",
    "                p_adjust='holm'\n",
    "               )"
   ]
  },
  {
   "cell_type": "markdown",
   "id": "ad9cff6d",
   "metadata": {},
   "source": [
    "### Note\n",
    "The p-values between groups range from very close to zero (2.448501e-49, 8.440212e-10, etc.), which means that the differences between groups are statistically significant."
   ]
  },
  {
   "cell_type": "markdown",
   "id": "e0b0e8c9",
   "metadata": {},
   "source": [
    "<div style=\"border-bottom: 15px solid lightblue; border-radius: 10px; width: 100%;\"></div>"
   ]
  },
  {
   "cell_type": "markdown",
   "id": "96853c40",
   "metadata": {},
   "source": [
    "## Difference in Activity in the First 30 Days"
   ]
  },
  {
   "cell_type": "code",
   "execution_count": 22,
   "id": "4b48bac3",
   "metadata": {},
   "outputs": [],
   "source": [
    "churn = df_taxi[df_taxi.churn == \"churn\"].trips_in_first_30_days\n",
    "not_churn = df_taxi[df_taxi.churn == \"not_churn\"].trips_in_first_30_days"
   ]
  },
  {
   "cell_type": "code",
   "execution_count": 23,
   "id": "4615cb52",
   "metadata": {},
   "outputs": [
    {
     "data": {
      "image/png": "[encoded data removed]",
      "text/plain": [
       "<Figure size 500x500 with 1 Axes>"
      ]
     },
     "metadata": {},
     "output_type": "display_data"
    }
   ],
   "source": [
    "sns.displot(churn, kde=True)\n",
    "plt.show()"
   ]
  },
  {
   "cell_type": "code",
   "execution_count": 24,
   "id": "a8acd996",
   "metadata": {},
   "outputs": [
    {
     "data": {
      "image/png": "[encoded data removed]",
      "text/plain": [
       "<Figure size 500x500 with 1 Axes>"
      ]
     },
     "metadata": {},
     "output_type": "display_data"
    }
   ],
   "source": [
    "sns.displot(not_churn, kde=True)\n",
    "plt.show()"
   ]
  },
  {
   "cell_type": "markdown",
   "id": "84215e97",
   "metadata": {},
   "source": [
    "The distributions are not normal so the Mann-Whitney U-test is used"
   ]
  },
  {
   "cell_type": "code",
   "execution_count": 25,
   "id": "bc1fa670",
   "metadata": {},
   "outputs": [
    {
     "data": {
      "text/plain": [
       "MannwhitneyuResult(statistic=234767452.0, pvalue=0.0)"
      ]
     },
     "execution_count": 25,
     "metadata": {},
     "output_type": "execute_result"
    }
   ],
   "source": [
    "ss.mannwhitneyu(churn, not_churn)"
   ]
  },
  {
   "cell_type": "markdown",
   "id": "621a54a6",
   "metadata": {},
   "source": [
    "### Note\n",
    "A P-value close to zero indicates that the null hypothesis of equality of distributions between your two groups is rejected. Thus, the results indicate that there are statistically significant differences"
   ]
  },
  {
   "cell_type": "code",
   "execution_count": 26,
   "id": "a0015630",
   "metadata": {
    "scrolled": false
   },
   "outputs": [
    {
     "data": {
      "text/plain": [
       "<Axes: xlabel='churn', ylabel='trips_in_first_30_days'>"
      ]
     },
     "execution_count": 26,
     "metadata": {},
     "output_type": "execute_result"
    },
    {
     "data": {
      "image/png": "[encoded data removed]",
      "text/plain": [
       "<Figure size 640x480 with 1 Axes>"
      ]
     },
     "metadata": {},
     "output_type": "display_data"
    }
   ],
   "source": [
    "sns.pointplot(data=df_taxi, x='churn', y='trips_in_first_30_days')"
   ]
  },
  {
   "cell_type": "markdown",
   "id": "1f6ee364",
   "metadata": {},
   "source": [
    "<div style=\"border-bottom: 15px solid lightblue; border-radius: 10px; width: 100%;\"></div>"
   ]
  },
  {
   "cell_type": "markdown",
   "id": "ec7af09b",
   "metadata": {},
   "source": [
    "### Conclusion\n",
    "This finding may make practical sense when analyzing user behavior and the reasons why they may have left. Perhaps activity in the first 30 days plays a role in user retention, and differences in activity between cities may have influenced users' decision to stay or leave."
   ]
  }
 ],
 "metadata": {
  "kernelspec": {
   "display_name": "Python 3 (ipykernel)",
   "language": "python",
   "name": "python3"
  },
  "language_info": {
   "codemirror_mode": {
    "name": "ipython",
    "version": 3
   },
   "file_extension": ".py",
   "mimetype": "text/x-python",
   "name": "python",
   "nbconvert_exporter": "python",
   "pygments_lexer": "ipython3",
   "version": "3.11.3"
  }
 },
 "nbformat": 4,
 "nbformat_minor": 5
}
