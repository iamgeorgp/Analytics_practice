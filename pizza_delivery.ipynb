{
 "cells": [
  {
   "cell_type": "markdown",
   "id": "be93a457",
   "metadata": {},
   "source": [
    "# Pizza delivery company\n",
    "**Problem**: By evening, the delivery speed drops due to the fact that the couriers go home after working hours, while the number of orders only grows. This leads to the fact that at the time of the shift change our delivery is very low in efficiency.\n",
    "\n",
    "A new algorithm was devised that allows couriers to schedule their last orders before the end of the workday so that their delivery route matches their route home. That is, so that the couriers deliver their last orders of the day as if they were \"on their way\" home.\n",
    "\n",
    "There are two equal groups of couriers. Some couriers use the old algorithm without the \"on the way\" option, others see this option in their application and can select it.\n",
    "\n",
    "The **task** is to analyze the data from the experiment and help the business decide whether to roll out the new feature to all couriers."
   ]
  },
  {
   "cell_type": "code",
   "execution_count": 1,
   "id": "70ded49c",
   "metadata": {},
   "outputs": [],
   "source": [
    "# Importing libraries\n",
    "import pandas as pd\n",
    "import numpy as np\n",
    "import scipy.stats as ss\n",
    "import seaborn as sns\n",
    "import matplotlib.pyplot as plt\n",
    "%matplotlib inline\n",
    "\n",
    "sns.set(rc={'figure.figsize':(12,6)}, style='whitegrid')"
   ]
  },
  {
   "cell_type": "code",
   "execution_count": 2,
   "id": "1eeaeb1a",
   "metadata": {},
   "outputs": [
    {
     "data": {
      "text/html": [
       "<div>\n",
       "<style scoped>\n",
       "    .dataframe tbody tr th:only-of-type {\n",
       "        vertical-align: middle;\n",
       "    }\n",
       "\n",
       "    .dataframe tbody tr th {\n",
       "        vertical-align: top;\n",
       "    }\n",
       "\n",
       "    .dataframe thead th {\n",
       "        text-align: right;\n",
       "    }\n",
       "</style>\n",
       "<table border=\"1\" class=\"dataframe\">\n",
       "  <thead>\n",
       "    <tr style=\"text-align: right;\">\n",
       "      <th></th>\n",
       "      <th>order_id</th>\n",
       "      <th>delivery_time</th>\n",
       "      <th>district</th>\n",
       "      <th>experiment_group</th>\n",
       "    </tr>\n",
       "  </thead>\n",
       "  <tbody>\n",
       "    <tr>\n",
       "      <th>0</th>\n",
       "      <td>3159</td>\n",
       "      <td>44.0</td>\n",
       "      <td>Purlieus</td>\n",
       "      <td>control</td>\n",
       "    </tr>\n",
       "    <tr>\n",
       "      <th>1</th>\n",
       "      <td>10426</td>\n",
       "      <td>51.0</td>\n",
       "      <td>Purlieus</td>\n",
       "      <td>control</td>\n",
       "    </tr>\n",
       "    <tr>\n",
       "      <th>2</th>\n",
       "      <td>9155</td>\n",
       "      <td>46.0</td>\n",
       "      <td>Purlieus</td>\n",
       "      <td>control</td>\n",
       "    </tr>\n",
       "    <tr>\n",
       "      <th>3</th>\n",
       "      <td>10699</td>\n",
       "      <td>34.0</td>\n",
       "      <td>Purlieus</td>\n",
       "      <td>control</td>\n",
       "    </tr>\n",
       "    <tr>\n",
       "      <th>4</th>\n",
       "      <td>10061</td>\n",
       "      <td>43.0</td>\n",
       "      <td>Purlieus</td>\n",
       "      <td>control</td>\n",
       "    </tr>\n",
       "    <tr>\n",
       "      <th>...</th>\n",
       "      <td>...</td>\n",
       "      <td>...</td>\n",
       "      <td>...</td>\n",
       "      <td>...</td>\n",
       "    </tr>\n",
       "    <tr>\n",
       "      <th>20191</th>\n",
       "      <td>14561</td>\n",
       "      <td>42.0</td>\n",
       "      <td>Suburb</td>\n",
       "      <td>test</td>\n",
       "    </tr>\n",
       "    <tr>\n",
       "      <th>20192</th>\n",
       "      <td>12015</td>\n",
       "      <td>32.0</td>\n",
       "      <td>Suburb</td>\n",
       "      <td>test</td>\n",
       "    </tr>\n",
       "    <tr>\n",
       "      <th>20193</th>\n",
       "      <td>20077</td>\n",
       "      <td>23.0</td>\n",
       "      <td>Purlieus</td>\n",
       "      <td>test</td>\n",
       "    </tr>\n",
       "    <tr>\n",
       "      <th>20194</th>\n",
       "      <td>14861</td>\n",
       "      <td>41.0</td>\n",
       "      <td>Central</td>\n",
       "      <td>test</td>\n",
       "    </tr>\n",
       "    <tr>\n",
       "      <th>20195</th>\n",
       "      <td>13501</td>\n",
       "      <td>41.0</td>\n",
       "      <td>Central</td>\n",
       "      <td>test</td>\n",
       "    </tr>\n",
       "  </tbody>\n",
       "</table>\n",
       "<p>20196 rows × 4 columns</p>\n",
       "</div>"
      ],
      "text/plain": [
       "       order_id  delivery_time  district experiment_group\n",
       "0          3159           44.0  Purlieus          control\n",
       "1         10426           51.0  Purlieus          control\n",
       "2          9155           46.0  Purlieus          control\n",
       "3         10699           34.0  Purlieus          control\n",
       "4         10061           43.0  Purlieus          control\n",
       "...         ...            ...       ...              ...\n",
       "20191     14561           42.0    Suburb             test\n",
       "20192     12015           32.0    Suburb             test\n",
       "20193     20077           23.0  Purlieus             test\n",
       "20194     14861           41.0   Central             test\n",
       "20195     13501           41.0   Central             test\n",
       "\n",
       "[20196 rows x 4 columns]"
      ]
     },
     "execution_count": 2,
     "metadata": {},
     "output_type": "execute_result"
    }
   ],
   "source": [
    "# Loading and reading dataset\n",
    "df_delivery = pd.read_csv('data\\delivery.csv')\n",
    "df_delivery"
   ]
  },
  {
   "cell_type": "code",
   "execution_count": 3,
   "id": "fb9ed4e2",
   "metadata": {},
   "outputs": [
    {
     "name": "stdout",
     "output_type": "stream",
     "text": [
      "--------------------------------------------------------- DATA INFO ---------------------------------------------------------\n",
      "<class 'pandas.core.frame.DataFrame'>\n",
      "RangeIndex: 20196 entries, 0 to 20195\n",
      "Data columns (total 4 columns):\n",
      " #   Column            Non-Null Count  Dtype  \n",
      "---  ------            --------------  -----  \n",
      " 0   order_id          20196 non-null  int64  \n",
      " 1   delivery_time     20196 non-null  float64\n",
      " 2   district          20196 non-null  object \n",
      " 3   experiment_group  20196 non-null  object \n",
      "dtypes: float64(1), int64(1), object(2)\n",
      "memory usage: 631.3+ KB\n",
      "None\n",
      "------------------------------------------------------ SHAPE OF DATASET -----------------------------------------------------\n",
      "Rows:20196\n",
      "Columns:4\n",
      "--------------------------------------------------------- DATA TYPES --------------------------------------------------------\n",
      "order_id              int64\n",
      "delivery_time       float64\n",
      "district             object\n",
      "experiment_group     object\n",
      "dtype: object\n",
      "----------------------------------------------------- STATISTICS OF DATA ----------------------------------------------------\n",
      "            order_id  delivery_time  district experiment_group\n",
      "count   20196.000000   20196.000000     20196            20196\n",
      "unique           NaN            NaN         3                2\n",
      "top              NaN            NaN  Purlieus             test\n",
      "freq             NaN            NaN     16960            10104\n",
      "mean    11103.503565      42.054169       NaN              NaN\n",
      "std      5835.424404      10.382196       NaN              NaN\n",
      "min      1000.000000      10.000000       NaN              NaN\n",
      "25%      6048.750000      35.000000       NaN              NaN\n",
      "50%     11109.500000      42.000000       NaN              NaN\n",
      "75%     16158.250000      49.000000       NaN              NaN\n",
      "max     21207.000000      83.000000       NaN              NaN\n",
      "------------------------------------------------------- MISSING VALUES ------------------------------------------------------\n",
      "Series([], dtype: int64)\n",
      "----------------------------------------------------- DUPLICATED VALUES -----------------------------------------------------\n",
      "0\n"
     ]
    }
   ],
   "source": [
    "# Investigating dataset information\n",
    "def overview(df):\n",
    "    print(\" DATA INFO \".center(125,'-'))\n",
    "    print(df.info())\n",
    "    \n",
    "    print(\" SHAPE OF DATASET \".center(125,'-'))\n",
    "    print('Rows:{}'.format(df.shape[0]))\n",
    "    print('Columns:{}'.format(df.shape[1]))\n",
    "    \n",
    "    print(\" DATA TYPES \".center(125,'-'))\n",
    "    print(df.dtypes)\n",
    "    \n",
    "    print(\" STATISTICS OF DATA \".center(125,'-'))\n",
    "    print(df.describe(include=\"all\"))\n",
    "    \n",
    "    print(\" MISSING VALUES \".center(125,'-'))\n",
    "    print(df.isnull().sum()[df.isnull().sum()>0].sort_values(ascending = False))\n",
    "    \n",
    "    print(\" DUPLICATED VALUES \".center(125,'-'))\n",
    "    print(df.duplicated().sum())\n",
    "\n",
    "overview(df_delivery)"
   ]
  },
  {
   "cell_type": "markdown",
   "id": "75e0027f",
   "metadata": {},
   "source": [
    "REMARK: There are no missing values or duplicates in the dataset. \n",
    "\n",
    "Data description:\n",
    "\n",
    "    order_id - order\n",
    "    id delivery_time - delivery time in minutes\n",
    "    district - delivery area \n",
    "    experiment_group - experimental group"
   ]
  },
  {
   "cell_type": "markdown",
   "id": "dddccc3a",
   "metadata": {},
   "source": [
    "Hypotheses were formulated to be tested in this experiment:\n",
    "\n",
    " -  *The null hypothesis* (H0): There is no difference between the mean delivery time in the test and contralateral groups.\n",
    " -  *Alternative hypothesis* (H1): There is a difference between the mean delivery time in the test and control groups."
   ]
  },
  {
   "cell_type": "code",
   "execution_count": 4,
   "id": "7b1aec8d",
   "metadata": {
    "scrolled": false
   },
   "outputs": [
    {
     "data": {
      "image/png": "[encoded data removed]",
      "text/plain": [
       "<Figure size 1300x600 with 2 Axes>"
      ]
     },
     "metadata": {},
     "output_type": "display_data"
    }
   ],
   "source": [
    "# Group distribution charts\n",
    "fig, axes = plt.subplots(1, 2, figsize=(13, 6))\n",
    "sns.histplot(ax=axes[0],\n",
    "             data=df_delivery.query('experiment_group == \"test\"'), \n",
    "             x='delivery_time', \n",
    "             hue='district')\n",
    "axes[0].set_title('Test Group')\n",
    "sns.histplot(ax=axes[1], \n",
    "             data=df_delivery.query('experiment_group == \"control\"'), \n",
    "             x='delivery_time', \n",
    "             hue='district')\n",
    "axes[1].set_title('Control Group')\n",
    "sns.despine()"
   ]
  },
  {
   "cell_type": "code",
   "execution_count": 5,
   "id": "cde89588",
   "metadata": {},
   "outputs": [
    {
     "data": {
      "text/plain": [
       "experiment_group\n",
       "control    10092\n",
       "test       10104\n",
       "Name: order_id, dtype: int64"
      ]
     },
     "execution_count": 5,
     "metadata": {},
     "output_type": "execute_result"
    }
   ],
   "source": [
    "# Number of observations in test and control groups\n",
    "counter = df_delivery.groupby('experiment_group').order_id.count()\n",
    "counter"
   ]
  },
  {
   "cell_type": "code",
   "execution_count": 6,
   "id": "176a2059",
   "metadata": {},
   "outputs": [
    {
     "data": {
      "text/plain": [
       "ShapiroResult(statistic=0.9975473880767822, pvalue=0.14001426100730896)"
      ]
     },
     "execution_count": 6,
     "metadata": {},
     "output_type": "execute_result"
    }
   ],
   "source": [
    "# Checking for normality of distributions using the Shapiro-Wilk test\n",
    "ss.shapiro(df_delivery\\\n",
    "               .query('experiment_group == \"test\"') \\\n",
    "               .delivery_time \\\n",
    "               .sample(1000, random_state=17)\n",
    "          )"
   ]
  },
  {
   "cell_type": "code",
   "execution_count": 7,
   "id": "75ac6706",
   "metadata": {},
   "outputs": [
    {
     "data": {
      "text/plain": [
       "ShapiroResult(statistic=0.9974724054336548, pvalue=0.12408281117677689)"
      ]
     },
     "execution_count": 7,
     "metadata": {},
     "output_type": "execute_result"
    }
   ],
   "source": [
    "ss.shapiro(df_delivery\\\n",
    "               .query('experiment_group == \"control\"') \\\n",
    "               .delivery_time \\\n",
    "               .sample(1000, random_state=17)\n",
    "          )"
   ]
  },
  {
   "cell_type": "markdown",
   "id": "0bec6488",
   "metadata": {},
   "source": [
    "The distributions are normal"
   ]
  },
  {
   "cell_type": "code",
   "execution_count": 8,
   "id": "017a529f",
   "metadata": {},
   "outputs": [
    {
     "data": {
      "text/plain": [
       "Ttest_indResult(statistic=43.03582663183714, pvalue=0.0)"
      ]
     },
     "execution_count": 8,
     "metadata": {},
     "output_type": "execute_result"
    }
   ],
   "source": [
    "# Comparison of group averages using Student's t-test\n",
    "ss.ttest_ind(df_delivery.query('experiment_group == \"control\"').delivery_time,\n",
    "             df_delivery.query('experiment_group == \"test\"').delivery_time,\n",
    "            )"
   ]
  },
  {
   "cell_type": "markdown",
   "id": "721acfce",
   "metadata": {},
   "source": [
    "The value of statistic (t statistic) is 43.03582663183714. A large value of t statistic indicates a significant difference between the mean values of the samples.\n",
    "\n",
    "The pvalue is 0.0, which means there is a very low probability of getting such a difference between groups by chance. \n",
    "\n",
    "Thus, the conclusion is that the mean values of delivery times between the \"control\" and \"test\" groups are statistically significantly different, and the difference has a high degree of confidence (p-level is close to zero)."
   ]
  },
  {
   "cell_type": "code",
   "execution_count": 9,
   "id": "61be62c6",
   "metadata": {},
   "outputs": [
    {
     "name": "stdout",
     "output_type": "stream",
     "text": [
      "Speed of delivery\n",
      "Mean in control group:\t45.07\n",
      "Mean in test group:\t39.05\n",
      "Percentage of change:\t-13.35%\n"
     ]
    }
   ],
   "source": [
    "# Estimation of change in speed of delivery time across groups\n",
    "control_mean = df_delivery.query('experiment_group == \"control\"').delivery_time.mean()\n",
    "test_mean = df_delivery.query('experiment_group == \"test\"').delivery_time.mean()\n",
    "percent = pd.Series([control_mean, test_mean]).pct_change().iloc[-1] * 100\n",
    "print(f'Speed of delivery\\nMean in control group:\\t{control_mean:.2f}')\n",
    "print(f'Mean in test group:\\t{test_mean:.2f}')\n",
    "print(f'Percentage of change:\\t{percent:.2f}%')"
   ]
  },
  {
   "cell_type": "markdown",
   "id": "e99199ec",
   "metadata": {},
   "source": [
    "## Results\n",
    "\n",
    "    Based on the provided output and context, here are the conclusions from the study on the change in delivery speed with the addition of the \"on the way\" functionality:\n",
    "\n",
    "Speed of Delivery:\n",
    "\n",
    "- The mean delivery time in the control group (without the \"on the way\" functionality) is 45.07 minutes.\n",
    "- The mean delivery time in the test group (with the \"on the way\" functionality) is 39.05 minutes.\n",
    "\n",
    "Percentage of Change:\n",
    "\n",
    "- The percentage change in delivery time between the control and test groups is -13.35%.\n",
    "\n",
    "Conclusion:\n",
    "\n",
    "    The negative percentage of change (-13.35%) suggests that the addition of the \"on the way\" functionality has resulted in a statistically significant improvement in the average delivery time. The negative value indicates a decrease in the average delivery time in the test group compared to the control group.\n",
    "    \n",
    "Decision:\n",
    "\n",
    "    Based on the observed statistically significant improvement in delivery speed with the addition of the \"on the way\" functionality, it is recommended to roll out this algorithm to everyone. Implementing the \"on the way\" feature has resulted in a measurable improvement in delivery time, making it a valuable addition for all users or customers.\n",
    "    \n",
    "    It's worth noting that additional statistical analysis, such as hypothesis testing and confidence intervals, could provide more robust conclusions about the significance of the observed change. Also, considering factors like user feedback and operational aspects before the final decision is crucial.\n"
   ]
  }
 ],
 "metadata": {
  "kernelspec": {
   "display_name": "Python 3 (ipykernel)",
   "language": "python",
   "name": "python3"
  },
  "language_info": {
   "codemirror_mode": {
    "name": "ipython",
    "version": 3
   },
   "file_extension": ".py",
   "mimetype": "text/x-python",
   "name": "python",
   "nbconvert_exporter": "python",
   "pygments_lexer": "ipython3",
   "version": "3.11.3"
  }
 },
 "nbformat": 4,
 "nbformat_minor": 5
}
