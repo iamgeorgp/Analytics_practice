{
 "cells": [
  {
   "cell_type": "markdown",
   "id": "668cd4d3",
   "metadata": {},
   "source": [
    "Описание эксперимента (hw_bootstrap.csv)\n",
    "\n",
    "Перед вами таблица, где числовая переменная – непрерывная. Задача – сравнить группы двумя способами: бутстрапом и u-тестом\n",
    "Описание колонок\n",
    "\n",
    "    value – значения метрики\n",
    "    experimentVariant – Вариант теста (Control – контроль, Treatment – тест)\n",
    "\n",
    "Задача\n",
    "\n",
    "    Сравните результат между тестом и контролем по двум кейсам:\n",
    "        Примените бутстрап (с np.mean) и критерий mann-whitney, а потом сравните p-value\n",
    "        Примените бутстрап (с np.median) и критерий mann-whitney, а потом сравните p-value\n",
    "    Напишите выводы, которые можно сделать на основе анализа примененных критериев\n"
   ]
  },
  {
   "cell_type": "code",
   "execution_count": 32,
   "id": "797c3ebe",
   "metadata": {},
   "outputs": [],
   "source": [
    "import pandas as pd\n",
    "import numpy as np\n",
    "import matplotlib.pyplot as plt\n",
    "%matplotlib inline\n",
    "import seaborn as sns\n",
    "import scipy.stats as ss"
   ]
  },
  {
   "cell_type": "code",
   "execution_count": 21,
   "id": "6ab7ae22",
   "metadata": {},
   "outputs": [],
   "source": [
    "# Function to print all information about DataFrame\n",
    "def review_dataframe(df):\n",
    "    print(\" DATA INFO \".center(125,'-'))\n",
    "    print(df.info())\n",
    "    \n",
    "    print(\" SHAPE OF DATASET \".center(125,'-'))\n",
    "    print('Rows:{}'.format(df.shape[0]))\n",
    "    print('Columns:{}'.format(df.shape[1]))\n",
    "    \n",
    "    print(\" DATA TYPES \".center(125,'-'))\n",
    "    print(df.dtypes)\n",
    "    \n",
    "    print(\" STATISTICS OF DATA \".center(125,'-'))\n",
    "    print(df.describe(include=\"all\"))\n",
    "    \n",
    "    print(\" MISSING VALUES \".center(125,'-'))\n",
    "    print(df.isnull().sum()[df.isnull().sum()>0].sort_values(ascending = False))\n",
    "    \n",
    "    print(\" DUPLICATED VALUES \".center(125,'-'))\n",
    "    print(df.duplicated().sum())"
   ]
  },
  {
   "cell_type": "code",
   "execution_count": 2,
   "id": "09dc1b08",
   "metadata": {},
   "outputs": [
    {
     "data": {
      "text/html": [
       "<div>\n",
       "<style scoped>\n",
       "    .dataframe tbody tr th:only-of-type {\n",
       "        vertical-align: middle;\n",
       "    }\n",
       "\n",
       "    .dataframe tbody tr th {\n",
       "        vertical-align: top;\n",
       "    }\n",
       "\n",
       "    .dataframe thead th {\n",
       "        text-align: right;\n",
       "    }\n",
       "</style>\n",
       "<table border=\"1\" class=\"dataframe\">\n",
       "  <thead>\n",
       "    <tr style=\"text-align: right;\">\n",
       "      <th></th>\n",
       "      <th>Unnamed: 0</th>\n",
       "      <th>value</th>\n",
       "      <th>experimentVariant</th>\n",
       "    </tr>\n",
       "  </thead>\n",
       "  <tbody>\n",
       "    <tr>\n",
       "      <th>0</th>\n",
       "      <td>1</td>\n",
       "      <td>10.380495</td>\n",
       "      <td>Control</td>\n",
       "    </tr>\n",
       "    <tr>\n",
       "      <th>1</th>\n",
       "      <td>2</td>\n",
       "      <td>9.546867</td>\n",
       "      <td>Control</td>\n",
       "    </tr>\n",
       "    <tr>\n",
       "      <th>2</th>\n",
       "      <td>3</td>\n",
       "      <td>11.088215</td>\n",
       "      <td>Control</td>\n",
       "    </tr>\n",
       "    <tr>\n",
       "      <th>3</th>\n",
       "      <td>4</td>\n",
       "      <td>10.147274</td>\n",
       "      <td>Control</td>\n",
       "    </tr>\n",
       "    <tr>\n",
       "      <th>4</th>\n",
       "      <td>5</td>\n",
       "      <td>9.789808</td>\n",
       "      <td>Control</td>\n",
       "    </tr>\n",
       "  </tbody>\n",
       "</table>\n",
       "</div>"
      ],
      "text/plain": [
       "   Unnamed: 0      value experimentVariant\n",
       "0           1  10.380495           Control\n",
       "1           2   9.546867           Control\n",
       "2           3  11.088215           Control\n",
       "3           4  10.147274           Control\n",
       "4           5   9.789808           Control"
      ]
     },
     "execution_count": 2,
     "metadata": {},
     "output_type": "execute_result"
    }
   ],
   "source": [
    "df_for_bs = pd.read_csv('data/for_bootstrap.csv', decimal=',', sep=';')\n",
    "df_for_bs.head()"
   ]
  },
  {
   "cell_type": "markdown",
   "id": "5b0d7cec",
   "metadata": {},
   "source": [
    "Description:\n",
    "\n",
    "    value – metric value\n",
    "    experimentVariant – Test version (Control – control, Treatment – test)"
   ]
  },
  {
   "cell_type": "code",
   "execution_count": 22,
   "id": "79884fc5",
   "metadata": {},
   "outputs": [
    {
     "name": "stdout",
     "output_type": "stream",
     "text": [
      "--------------------------------------------------------- DATA INFO ---------------------------------------------------------\n",
      "<class 'pandas.core.frame.DataFrame'>\n",
      "RangeIndex: 1000 entries, 0 to 999\n",
      "Data columns (total 3 columns):\n",
      " #   Column             Non-Null Count  Dtype  \n",
      "---  ------             --------------  -----  \n",
      " 0   Unnamed: 0         1000 non-null   int64  \n",
      " 1   value              1000 non-null   float64\n",
      " 2   experimentVariant  1000 non-null   object \n",
      "dtypes: float64(1), int64(1), object(1)\n",
      "memory usage: 23.6+ KB\n",
      "None\n",
      "------------------------------------------------------ SHAPE OF DATASET -----------------------------------------------------\n",
      "Rows:1000\n",
      "Columns:3\n",
      "--------------------------------------------------------- DATA TYPES --------------------------------------------------------\n",
      "Unnamed: 0             int64\n",
      "value                float64\n",
      "experimentVariant     object\n",
      "dtype: object\n",
      "----------------------------------------------------- STATISTICS OF DATA ----------------------------------------------------\n",
      "         Unnamed: 0        value experimentVariant\n",
      "count   1000.000000  1000.000000              1000\n",
      "unique          NaN          NaN                 2\n",
      "top             NaN          NaN           Control\n",
      "freq            NaN          NaN               500\n",
      "mean     500.500000    18.674183               NaN\n",
      "std      288.819436   132.135045               NaN\n",
      "min        1.000000     6.436541               NaN\n",
      "25%      250.750000     9.414051               NaN\n",
      "50%      500.500000    10.020862               NaN\n",
      "75%      750.250000    10.669292               NaN\n",
      "max     1000.000000  3000.000000               NaN\n",
      "------------------------------------------------------- MISSING VALUES ------------------------------------------------------\n",
      "Series([], dtype: int64)\n",
      "----------------------------------------------------- DUPLICATED VALUES -----------------------------------------------------\n",
      "0\n"
     ]
    }
   ],
   "source": [
    "review_dataframe(df=df_for_bs)"
   ]
  },
  {
   "cell_type": "code",
   "execution_count": 16,
   "id": "e805bbaa",
   "metadata": {},
   "outputs": [
    {
     "data": {
      "text/plain": [
       "0      10.380495\n",
       "1       9.546867\n",
       "2      11.088215\n",
       "3      10.147274\n",
       "4       9.789808\n",
       "         ...    \n",
       "495    10.973929\n",
       "496    10.261074\n",
       "497     8.780090\n",
       "498    11.169078\n",
       "499    11.499566\n",
       "Name: value, Length: 500, dtype: float64"
      ]
     },
     "execution_count": 16,
     "metadata": {},
     "output_type": "execute_result"
    }
   ],
   "source": [
    "control_group = df_for_bs.query('experimentVariant == \"Control\"').value\n",
    "control_group"
   ]
  },
  {
   "cell_type": "code",
   "execution_count": 17,
   "id": "3df3b14d",
   "metadata": {},
   "outputs": [
    {
     "data": {
      "text/plain": [
       "500      10.380495\n",
       "501       9.546867\n",
       "502      11.088215\n",
       "503      10.147274\n",
       "504       9.789808\n",
       "          ...     \n",
       "995    1000.000000\n",
       "996    1200.000000\n",
       "997    1500.000000\n",
       "998    2000.000000\n",
       "999    3000.000000\n",
       "Name: value, Length: 500, dtype: float64"
      ]
     },
     "execution_count": 17,
     "metadata": {},
     "output_type": "execute_result"
    }
   ],
   "source": [
    "treatment_group = df_for_bs.query('experimentVariant == \"Treatment\"').value\n",
    "treatment_group"
   ]
  },
  {
   "cell_type": "code",
   "execution_count": 30,
   "id": "6fb185ee",
   "metadata": {},
   "outputs": [
    {
     "name": "stdout",
     "output_type": "stream",
     "text": [
      "Size of control group:    500\n",
      "Size of treatment group:  500\n"
     ]
    }
   ],
   "source": [
    "print(f'Size of control group:    {control_group.shape[0]}')\n",
    "print(f'Size of treatment group:  {treatment_group.shape[0]}')"
   ]
  },
  {
   "cell_type": "code",
   "execution_count": 31,
   "id": "9bf8e622",
   "metadata": {},
   "outputs": [
    {
     "data": {
      "text/plain": [
       "False"
      ]
     },
     "execution_count": 31,
     "metadata": {},
     "output_type": "execute_result"
    }
   ],
   "source": [
    "# Checking for equals\n",
    "treatment_group.equals(control_group)"
   ]
  },
  {
   "cell_type": "code",
   "execution_count": 33,
   "id": "d2f3919c",
   "metadata": {},
   "outputs": [
    {
     "data": {
      "text/plain": [
       "MannwhitneyuResult(statistic=124189.5, pvalue=0.8592148582485579)"
      ]
     },
     "execution_count": 33,
     "metadata": {},
     "output_type": "execute_result"
    }
   ],
   "source": [
    "result_mannwhitneyu = ss.mannwhitneyu(control_group, treatment_group, alternative='two-sided')\n",
    "result_mannwhitneyu"
   ]
  },
  {
   "cell_type": "code",
   "execution_count": null,
   "id": "64efb751",
   "metadata": {},
   "outputs": [],
   "source": [
    "def get_bootstrap_results(column_1,\n",
    "                          column_2,\n",
    "                          boot_interations,\n",
    "                          statistic,\n",
    "                          boot_conf_level\n",
    "                         ):\n",
    "    boot_len = max(len(column_1), len(column_2))\n",
    "    boot_data = []\n",
    "    for iteration in range(boot_iterations):\n",
    "        sample_column_1 = column_1.sample(boot_len, replace=True).value\n",
    "        sample_column_2 = column_2.samole(boot_len, replace=True).value\n",
    "\n",
    "    "
   ]
  }
 ],
 "metadata": {
  "kernelspec": {
   "display_name": "Python 3 (ipykernel)",
   "language": "python",
   "name": "python3"
  },
  "language_info": {
   "codemirror_mode": {
    "name": "ipython",
    "version": 3
   },
   "file_extension": ".py",
   "mimetype": "text/x-python",
   "name": "python",
   "nbconvert_exporter": "python",
   "pygments_lexer": "ipython3",
   "version": "3.11.3"
  }
 },
 "nbformat": 4,
 "nbformat_minor": 5
}
