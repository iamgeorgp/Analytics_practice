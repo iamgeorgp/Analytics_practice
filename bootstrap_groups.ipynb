{
 "cells": [
  {
   "cell_type": "code",
   "execution_count": 1,
   "id": "797c3ebe",
   "metadata": {},
   "outputs": [],
   "source": [
    "import pandas as pd\n",
    "import numpy as np\n",
    "import matplotlib.pyplot as plt\n",
    "%matplotlib inline\n",
    "import seaborn as sns\n",
    "import scipy.stats as ss\n",
    "from tqdm.auto import tqdm"
   ]
  },
  {
   "cell_type": "code",
   "execution_count": 2,
   "id": "961e16f8",
   "metadata": {},
   "outputs": [],
   "source": [
    "# Function to print all information about DataFrame\n",
    "def review_dataframe(df):\n",
    "    print(\" DATA INFO \".center(125,'-'))\n",
    "    print(df.info())\n",
    "    \n",
    "    print(\" SHAPE OF DATASET \".center(125,'-'))\n",
    "    print('Rows:{}'.format(df.shape[0]))\n",
    "    print('Columns:{}'.format(df.shape[1]))\n",
    "    \n",
    "    print(\" DATA TYPES \".center(125,'-'))\n",
    "    print(df.dtypes)\n",
    "    \n",
    "    print(\" STATISTICS OF DATA \".center(125,'-'))\n",
    "    print(df.describe(include=\"all\"))\n",
    "    \n",
    "    print(\" MISSING VALUES \".center(125,'-'))\n",
    "    print(df.isnull().sum()[df.isnull().sum()>0].sort_values(ascending = False))\n",
    "    \n",
    "    print(\" DUPLICATED VALUES \".center(125,'-'))\n",
    "    print(df.duplicated().sum())"
   ]
  },
  {
   "cell_type": "code",
   "execution_count": 3,
   "id": "09dc1b08",
   "metadata": {},
   "outputs": [
    {
     "data": {
      "text/html": [
       "<div>\n",
       "<style scoped>\n",
       "    .dataframe tbody tr th:only-of-type {\n",
       "        vertical-align: middle;\n",
       "    }\n",
       "\n",
       "    .dataframe tbody tr th {\n",
       "        vertical-align: top;\n",
       "    }\n",
       "\n",
       "    .dataframe thead th {\n",
       "        text-align: right;\n",
       "    }\n",
       "</style>\n",
       "<table border=\"1\" class=\"dataframe\">\n",
       "  <thead>\n",
       "    <tr style=\"text-align: right;\">\n",
       "      <th></th>\n",
       "      <th>Unnamed: 0</th>\n",
       "      <th>value</th>\n",
       "      <th>experimentVariant</th>\n",
       "    </tr>\n",
       "  </thead>\n",
       "  <tbody>\n",
       "    <tr>\n",
       "      <th>0</th>\n",
       "      <td>1</td>\n",
       "      <td>10.380495</td>\n",
       "      <td>Control</td>\n",
       "    </tr>\n",
       "    <tr>\n",
       "      <th>1</th>\n",
       "      <td>2</td>\n",
       "      <td>9.546867</td>\n",
       "      <td>Control</td>\n",
       "    </tr>\n",
       "    <tr>\n",
       "      <th>2</th>\n",
       "      <td>3</td>\n",
       "      <td>11.088215</td>\n",
       "      <td>Control</td>\n",
       "    </tr>\n",
       "    <tr>\n",
       "      <th>3</th>\n",
       "      <td>4</td>\n",
       "      <td>10.147274</td>\n",
       "      <td>Control</td>\n",
       "    </tr>\n",
       "    <tr>\n",
       "      <th>4</th>\n",
       "      <td>5</td>\n",
       "      <td>9.789808</td>\n",
       "      <td>Control</td>\n",
       "    </tr>\n",
       "  </tbody>\n",
       "</table>\n",
       "</div>"
      ],
      "text/plain": [
       "   Unnamed: 0      value experimentVariant\n",
       "0           1  10.380495           Control\n",
       "1           2   9.546867           Control\n",
       "2           3  11.088215           Control\n",
       "3           4  10.147274           Control\n",
       "4           5   9.789808           Control"
      ]
     },
     "execution_count": 3,
     "metadata": {},
     "output_type": "execute_result"
    }
   ],
   "source": [
    "df_for_bs = pd.read_csv('data/for_bootstrap.csv', decimal=',', sep=';')\n",
    "df_for_bs.head()"
   ]
  },
  {
   "cell_type": "markdown",
   "id": "5b0d7cec",
   "metadata": {},
   "source": [
    "Description:\n",
    "\n",
    "    value – metric value\n",
    "    experimentVariant – Test version (Control – control, Treatment – test)"
   ]
  },
  {
   "cell_type": "code",
   "execution_count": 4,
   "id": "d30a05c3",
   "metadata": {},
   "outputs": [
    {
     "name": "stdout",
     "output_type": "stream",
     "text": [
      "--------------------------------------------------------- DATA INFO ---------------------------------------------------------\n",
      "<class 'pandas.core.frame.DataFrame'>\n",
      "RangeIndex: 1000 entries, 0 to 999\n",
      "Data columns (total 3 columns):\n",
      " #   Column             Non-Null Count  Dtype  \n",
      "---  ------             --------------  -----  \n",
      " 0   Unnamed: 0         1000 non-null   int64  \n",
      " 1   value              1000 non-null   float64\n",
      " 2   experimentVariant  1000 non-null   object \n",
      "dtypes: float64(1), int64(1), object(1)\n",
      "memory usage: 23.6+ KB\n",
      "None\n",
      "------------------------------------------------------ SHAPE OF DATASET -----------------------------------------------------\n",
      "Rows:1000\n",
      "Columns:3\n",
      "--------------------------------------------------------- DATA TYPES --------------------------------------------------------\n",
      "Unnamed: 0             int64\n",
      "value                float64\n",
      "experimentVariant     object\n",
      "dtype: object\n",
      "----------------------------------------------------- STATISTICS OF DATA ----------------------------------------------------\n",
      "         Unnamed: 0        value experimentVariant\n",
      "count   1000.000000  1000.000000              1000\n",
      "unique          NaN          NaN                 2\n",
      "top             NaN          NaN           Control\n",
      "freq            NaN          NaN               500\n",
      "mean     500.500000    18.674183               NaN\n",
      "std      288.819436   132.135045               NaN\n",
      "min        1.000000     6.436541               NaN\n",
      "25%      250.750000     9.414051               NaN\n",
      "50%      500.500000    10.020862               NaN\n",
      "75%      750.250000    10.669292               NaN\n",
      "max     1000.000000  3000.000000               NaN\n",
      "------------------------------------------------------- MISSING VALUES ------------------------------------------------------\n",
      "Series([], dtype: int64)\n",
      "----------------------------------------------------- DUPLICATED VALUES -----------------------------------------------------\n",
      "0\n"
     ]
    }
   ],
   "source": [
    "review_dataframe(df=df_for_bs)"
   ]
  },
  {
   "cell_type": "code",
   "execution_count": 5,
   "id": "f16e0327",
   "metadata": {},
   "outputs": [
    {
     "data": {
      "text/plain": [
       "0      10.380495\n",
       "1       9.546867\n",
       "2      11.088215\n",
       "3      10.147274\n",
       "4       9.789808\n",
       "         ...    \n",
       "495    10.973929\n",
       "496    10.261074\n",
       "497     8.780090\n",
       "498    11.169078\n",
       "499    11.499566\n",
       "Name: value, Length: 500, dtype: float64"
      ]
     },
     "execution_count": 5,
     "metadata": {},
     "output_type": "execute_result"
    }
   ],
   "source": [
    "control_group = df_for_bs.query('experimentVariant == \"Control\"').value\n",
    "control_group"
   ]
  },
  {
   "cell_type": "code",
   "execution_count": 6,
   "id": "9092bffc",
   "metadata": {},
   "outputs": [
    {
     "data": {
      "text/plain": [
       "500      10.380495\n",
       "501       9.546867\n",
       "502      11.088215\n",
       "503      10.147274\n",
       "504       9.789808\n",
       "          ...     \n",
       "995    1000.000000\n",
       "996    1200.000000\n",
       "997    1500.000000\n",
       "998    2000.000000\n",
       "999    3000.000000\n",
       "Name: value, Length: 500, dtype: float64"
      ]
     },
     "execution_count": 6,
     "metadata": {},
     "output_type": "execute_result"
    }
   ],
   "source": [
    "treatment_group = df_for_bs.query('experimentVariant == \"Treatment\"').value\n",
    "treatment_group"
   ]
  },
  {
   "cell_type": "code",
   "execution_count": 7,
   "id": "f21ee92a",
   "metadata": {},
   "outputs": [
    {
     "name": "stdout",
     "output_type": "stream",
     "text": [
      "Size of control group:    500\n",
      "Size of treatment group:  500\n"
     ]
    }
   ],
   "source": [
    "print(f'Size of control group:    {control_group.shape[0]}')\n",
    "print(f'Size of treatment group:  {treatment_group.shape[0]}')"
   ]
  },
  {
   "cell_type": "code",
   "execution_count": 8,
   "id": "a0d738fb",
   "metadata": {},
   "outputs": [
    {
     "data": {
      "text/plain": [
       "False"
      ]
     },
     "execution_count": 8,
     "metadata": {},
     "output_type": "execute_result"
    }
   ],
   "source": [
    "# Checking for equals\n",
    "treatment_group.equals(control_group)"
   ]
  },
  {
   "cell_type": "code",
   "execution_count": 9,
   "id": "75801734",
   "metadata": {},
   "outputs": [],
   "source": [
    "def get_bootstrap_results(column_1,\n",
    "                          column_2,\n",
    "                          boot_iterations,\n",
    "                          statistic,\n",
    "                          boot_conf_level\n",
    "                         ):\n",
    "    boot_len = max(len(column_1), len(column_2))\n",
    "    boot_data = []\n",
    "    for iteration in range(boot_iterations):\n",
    "        sample_column_1 = column_1.sample(boot_len, replace=True).values\n",
    "        sample_column_2 = column_2.sample(boot_len, replace=True).values\n",
    "        boot_data.append(statistic(sample_column_1 - sample_column_2))\n",
    "        \n",
    "    df_boot_data = pd.DataFrame(boot_data)\n",
    "    \n",
    "    p_value = min(sum(np.array(boot_data)<=0), \n",
    "                  sum(np.array(boot_data)>=0)\n",
    "                 ) * 2 / len(boot_data)\n",
    "    return p_value\n",
    "    "
   ]
  },
  {
   "cell_type": "code",
   "execution_count": 10,
   "id": "a97e6d48",
   "metadata": {},
   "outputs": [
    {
     "data": {
      "application/vnd.jupyter.widget-view+json": {
       "model_id": "48647fc8aa6f4b4d9cb6f0e96b39b2e6",
       "version_major": 2,
       "version_minor": 0
      },
      "text/plain": [
       "  0%|          | 0/10 [00:00<?, ?it/s]"
      ]
     },
     "metadata": {},
     "output_type": "display_data"
    },
    {
     "data": {
      "text/html": [
       "<div>\n",
       "<style scoped>\n",
       "    .dataframe tbody tr th:only-of-type {\n",
       "        vertical-align: middle;\n",
       "    }\n",
       "\n",
       "    .dataframe tbody tr th {\n",
       "        vertical-align: top;\n",
       "    }\n",
       "\n",
       "    .dataframe thead th {\n",
       "        text-align: right;\n",
       "    }\n",
       "</style>\n",
       "<table border=\"1\" class=\"dataframe\">\n",
       "  <thead>\n",
       "    <tr style=\"text-align: right;\">\n",
       "      <th></th>\n",
       "      <th>Boot Mean</th>\n",
       "      <th>Boot Median</th>\n",
       "      <th>P Mann-Whitneyu</th>\n",
       "    </tr>\n",
       "  </thead>\n",
       "  <tbody>\n",
       "    <tr>\n",
       "      <th>0</th>\n",
       "      <td>0.000</td>\n",
       "      <td>0.942</td>\n",
       "      <td>0.859215</td>\n",
       "    </tr>\n",
       "    <tr>\n",
       "      <th>1</th>\n",
       "      <td>0.006</td>\n",
       "      <td>0.882</td>\n",
       "      <td>0.859215</td>\n",
       "    </tr>\n",
       "    <tr>\n",
       "      <th>2</th>\n",
       "      <td>0.002</td>\n",
       "      <td>0.958</td>\n",
       "      <td>0.859215</td>\n",
       "    </tr>\n",
       "    <tr>\n",
       "      <th>3</th>\n",
       "      <td>0.006</td>\n",
       "      <td>0.880</td>\n",
       "      <td>0.859215</td>\n",
       "    </tr>\n",
       "    <tr>\n",
       "      <th>4</th>\n",
       "      <td>0.004</td>\n",
       "      <td>0.900</td>\n",
       "      <td>0.859215</td>\n",
       "    </tr>\n",
       "    <tr>\n",
       "      <th>5</th>\n",
       "      <td>0.004</td>\n",
       "      <td>0.924</td>\n",
       "      <td>0.859215</td>\n",
       "    </tr>\n",
       "    <tr>\n",
       "      <th>6</th>\n",
       "      <td>0.008</td>\n",
       "      <td>0.834</td>\n",
       "      <td>0.859215</td>\n",
       "    </tr>\n",
       "    <tr>\n",
       "      <th>7</th>\n",
       "      <td>0.000</td>\n",
       "      <td>0.900</td>\n",
       "      <td>0.859215</td>\n",
       "    </tr>\n",
       "    <tr>\n",
       "      <th>8</th>\n",
       "      <td>0.006</td>\n",
       "      <td>0.912</td>\n",
       "      <td>0.859215</td>\n",
       "    </tr>\n",
       "    <tr>\n",
       "      <th>9</th>\n",
       "      <td>0.002</td>\n",
       "      <td>0.916</td>\n",
       "      <td>0.859215</td>\n",
       "    </tr>\n",
       "  </tbody>\n",
       "</table>\n",
       "</div>"
      ],
      "text/plain": [
       "   Boot Mean  Boot Median  P Mann-Whitneyu\n",
       "0      0.000        0.942         0.859215\n",
       "1      0.006        0.882         0.859215\n",
       "2      0.002        0.958         0.859215\n",
       "3      0.006        0.880         0.859215\n",
       "4      0.004        0.900         0.859215\n",
       "5      0.004        0.924         0.859215\n",
       "6      0.008        0.834         0.859215\n",
       "7      0.000        0.900         0.859215\n",
       "8      0.006        0.912         0.859215\n",
       "9      0.002        0.916         0.859215"
      ]
     },
     "execution_count": 10,
     "metadata": {},
     "output_type": "execute_result"
    }
   ],
   "source": [
    "df_results_bs_mw = pd.DataFrame(columns=['Boot Mean', 'Boot Median', 'P Mann-Whitneyu'])\n",
    "\n",
    "result_mannwhitneyu = ss.mannwhitneyu(control_group, treatment_group, alternative='two-sided')\n",
    "\n",
    "for iteration in tqdm(range(10)):\n",
    "    result_bs_mean = get_bootstrap_results(column_1=control_group, \n",
    "                                           column_2=treatment_group, \n",
    "                                           boot_iterations=1000, \n",
    "                                           statistic=np.mean, \n",
    "                                           boot_conf_level=0.95\n",
    "                                          )\n",
    "    result_bs_median = get_bootstrap_results(column_1=control_group, \n",
    "                                             column_2=treatment_group, \n",
    "                                             boot_iterations=1000, \n",
    "                                             statistic=np.median, \n",
    "                                             boot_conf_level=0.95\n",
    "                                            )\n",
    "\n",
    "    temp_data = {'Boot Mean': [result_bs_mean], 'Boot Median': [result_bs_median], 'P Mann-Whitneyu': [result_mannwhitneyu.pvalue]}\n",
    "    df_results_bs_mw = pd.concat([df_results_bs_mw, pd.DataFrame(temp_data)], ignore_index=True)\n",
    "    \n",
    "#     print(f'Boot mean: {result_bs_mean};\\tBoot median: {result_bs_median};\\tMN: {result_mannwhitneyu.pvalue}')\n",
    "\n",
    "df_results_bs_mw"
   ]
  }
 ],
 "metadata": {
  "kernelspec": {
   "display_name": "Python 3 (ipykernel)",
   "language": "python",
   "name": "python3"
  },
  "language_info": {
   "codemirror_mode": {
    "name": "ipython",
    "version": 3
   },
   "file_extension": ".py",
   "mimetype": "text/x-python",
   "name": "python",
   "nbconvert_exporter": "python",
   "pygments_lexer": "ipython3",
   "version": "3.11.3"
  }
 },
 "nbformat": 4,
 "nbformat_minor": 5
}
